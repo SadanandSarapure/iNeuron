{
 "cells": [
  {
   "cell_type": "markdown",
   "id": "637b47a5",
   "metadata": {},
   "source": [
    "## Programming Assignment_1\n",
    "-------------"
   ]
  },
  {
   "cell_type": "markdown",
   "id": "0c647dbe",
   "metadata": {},
   "source": [
    "### 1. Write a Python program to print \"Hello Python\"?"
   ]
  },
  {
   "cell_type": "code",
   "execution_count": 1,
   "id": "894a9da6",
   "metadata": {},
   "outputs": [
    {
     "name": "stdout",
     "output_type": "stream",
     "text": [
      "Hello Python\n"
     ]
    }
   ],
   "source": [
    "print(\"Hello Python\")"
   ]
  },
  {
   "cell_type": "markdown",
   "id": "fc18a6cd",
   "metadata": {},
   "source": [
    "### 2. Write a Python program to do arithmetical operations addition and division.?\n"
   ]
  },
  {
   "cell_type": "code",
   "execution_count": 6,
   "id": "29f60465",
   "metadata": {},
   "outputs": [
    {
     "name": "stdout",
     "output_type": "stream",
     "text": [
      "Addition = Num1 + Num2 =  125\n",
      "Division = Num1 / Num2 =  4.0\n"
     ]
    }
   ],
   "source": [
    "Num1=100\n",
    "Num2=25\n",
    "Addition = Num1+Num2\n",
    "Division = Num1/Num2\n",
    "print(\"First number = \")\n",
    "print(\"Addition = Num1 + Num2 = \",Addition)\n",
    "print(\"Division = Num1 / Num2 = \",Division)"
   ]
  },
  {
   "cell_type": "code",
   "execution_count": 11,
   "id": "a530dad9",
   "metadata": {},
   "outputs": [
    {
     "name": "stdout",
     "output_type": "stream",
     "text": [
      "Enter first number: 100\n",
      "Enter second number: 25\n",
      "The addition of two numbers entered is:  125\n",
      "The division of two numbers entered is:  4.0\n"
     ]
    }
   ],
   "source": [
    "Num1 = input(\"Enter first number: \")\n",
    "Num2 = input(\"Enter second number: \")\n",
    "\n",
    "sum = int(Num1) + int(Num2)\n",
    "dev = int(Num1) / int(Num2)\n",
    "\n",
    "print(\"The addition of two numbers entered is: \", sum)\n",
    "print(\"The division of two numbers entered is: \", dev)"
   ]
  },
  {
   "cell_type": "markdown",
   "id": "af6e2429",
   "metadata": {},
   "source": [
    "### 3. Write a Python program to find the area of a triangle?\n"
   ]
  },
  {
   "cell_type": "code",
   "execution_count": 13,
   "id": "ca3d0637",
   "metadata": {},
   "outputs": [
    {
     "name": "stdout",
     "output_type": "stream",
     "text": [
      "Enter base length of traingle: 2\n",
      "Enter height of traingle: 4\n",
      "Area of given traingle is:  4.0\n"
     ]
    }
   ],
   "source": [
    "Num1 = input(\"Enter base length of traingle: \")\n",
    "Num2 = input(\"Enter height of traingle: \")\n",
    "\n",
    "\n",
    "area = (int(Num1) *int(Num2))/2\n",
    "\n",
    "print(\"Area of given traingle is: \", area)\n"
   ]
  },
  {
   "cell_type": "markdown",
   "id": "b8140061",
   "metadata": {},
   "source": [
    "### 4. Write a Python program to swap two variables?\n"
   ]
  },
  {
   "cell_type": "code",
   "execution_count": 15,
   "id": "a3c6a999",
   "metadata": {},
   "outputs": [
    {
     "name": "stdout",
     "output_type": "stream",
     "text": [
      "Enter value of x: 2\n",
      "Enter value of y: 4\n",
      "The value of x after swapping:  4\n",
      "The value of y after swapping:  2\n"
     ]
    }
   ],
   "source": [
    "x = input('Enter value of x: ')\n",
    "y = input('Enter value of y: ')\n",
    "\n",
    "\n",
    "temp = x\n",
    "x = y\n",
    "y = temp\n",
    "\n",
    "print('The value of x after swapping: ', x)\n",
    "print('The value of y after swapping: ',y)"
   ]
  },
  {
   "cell_type": "markdown",
   "id": "3f8054c1",
   "metadata": {},
   "source": [
    "### 5. Write a Python program to generate a random number?\n"
   ]
  },
  {
   "cell_type": "code",
   "execution_count": 26,
   "id": "67210885",
   "metadata": {},
   "outputs": [
    {
     "name": "stdout",
     "output_type": "stream",
     "text": [
      "42\n"
     ]
    }
   ],
   "source": [
    "import random\n",
    "\n",
    "print(random.randint(0,100))"
   ]
  },
  {
   "cell_type": "code",
   "execution_count": null,
   "id": "70b56218",
   "metadata": {},
   "outputs": [],
   "source": []
  },
  {
   "cell_type": "code",
   "execution_count": null,
   "id": "108a8b5c",
   "metadata": {},
   "outputs": [],
   "source": []
  },
  {
   "cell_type": "code",
   "execution_count": null,
   "id": "e3783264",
   "metadata": {},
   "outputs": [],
   "source": []
  }
 ],
 "metadata": {
  "kernelspec": {
   "display_name": "Python 3 (ipykernel)",
   "language": "python",
   "name": "python3"
  },
  "language_info": {
   "codemirror_mode": {
    "name": "ipython",
    "version": 3
   },
   "file_extension": ".py",
   "mimetype": "text/x-python",
   "name": "python",
   "nbconvert_exporter": "python",
   "pygments_lexer": "ipython3",
   "version": "3.9.13"
  }
 },
 "nbformat": 4,
 "nbformat_minor": 5
}
