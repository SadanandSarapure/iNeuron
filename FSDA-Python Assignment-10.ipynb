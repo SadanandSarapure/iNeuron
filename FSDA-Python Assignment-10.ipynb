{
 "cells": [
  {
   "cell_type": "markdown",
   "id": "3dcb940f",
   "metadata": {},
   "source": [
    "## Python Basic Programming Assignment 10"
   ]
  },
  {
   "cell_type": "markdown",
   "id": "6720790a",
   "metadata": {},
   "source": [
    "### 1. Write a Python program to find sum of elements in list?"
   ]
  },
  {
   "cell_type": "code",
   "execution_count": 7,
   "id": "29183ed3",
   "metadata": {
    "scrolled": true
   },
   "outputs": [
    {
     "name": "stdout",
     "output_type": "stream",
     "text": [
      "Enter number of elements : 5\n",
      "1\n",
      "2\n",
      "3\n",
      "4\n",
      "5\n",
      "[1, 2, 3, 4, 5]\n",
      "Sum of all elements in given list:  15\n"
     ]
    }
   ],
   "source": [
    "# Python program to find sum of elements in list\n",
    "# number of elements as input\n",
    "lst = []\n",
    "a = int(input(\"Enter number of elements : \"))\n",
    "  \n",
    "# iterating till the range\n",
    "for i in range(0, a):\n",
    "    ele = int(input())\n",
    "  \n",
    "    lst.append(ele) # adding the element\n",
    "      \n",
    "print(lst)\n",
    "total = 0\n",
    " \n",
    "# creating a list\n",
    "#list1 = [11, 5, 17, 18, 23]\n",
    " \n",
    "# Iterate each element in list\n",
    "# and add them in variable total\n",
    "for ele in range(0, len(lst)):\n",
    "\n",
    "    total = total + lst[ele]\n",
    " \n",
    "#printing total value\n",
    "\n",
    "\n",
    "print(\"Sum of all elements in given list: \", total)"
   ]
  },
  {
   "cell_type": "markdown",
   "id": "fe1137c3",
   "metadata": {},
   "source": [
    "### 2. Write a Python program to  Multiply all numbers in the list?"
   ]
  },
  {
   "cell_type": "code",
   "execution_count": 8,
   "id": "29c50854",
   "metadata": {},
   "outputs": [
    {
     "name": "stdout",
     "output_type": "stream",
     "text": [
      "Enter number of elements : 4\n",
      "1\n",
      "2\n",
      "3\n",
      "4\n",
      "[1, 2, 3, 4]\n",
      "24\n"
     ]
    }
   ],
   "source": [
    "lst = []\n",
    "a = int(input(\"Enter number of elements : \"))\n",
    "  \n",
    "# iterating till the range\n",
    "for i in range(0, a):\n",
    "    ele = int(input())\n",
    "  \n",
    "    lst.append(ele) # adding the element\n",
    "      \n",
    "print(lst)\n",
    "# Python3 program to multiply all values in the\n",
    "# list using math.prod\n",
    " \n",
    "import math\n",
    "\n",
    " \n",
    " \n",
    "Product_of_elements = math.prod(lst)\n",
    "\n",
    "print(Product_of_elements)"
   ]
  },
  {
   "cell_type": "markdown",
   "id": "078681db",
   "metadata": {},
   "source": [
    "### 3. Write a Python program to find smallest number in a list?"
   ]
  },
  {
   "cell_type": "code",
   "execution_count": 9,
   "id": "3eeed3c1",
   "metadata": {},
   "outputs": [
    {
     "name": "stdout",
     "output_type": "stream",
     "text": [
      "Enter number of elements : 4\n",
      "1\n",
      "2\n",
      "3\n",
      "4\n",
      "[1, 2, 3, 4]\n",
      "Smallest element is: 1\n"
     ]
    }
   ],
   "source": [
    "lst = []\n",
    "a = int(input(\"Enter number of elements : \"))\n",
    "  \n",
    "# iterating till the range\n",
    "for i in range(0, a):\n",
    "    ele = int(input())\n",
    "  \n",
    "    lst.append(ele) # adding the element\n",
    "      \n",
    "print(lst)\n",
    "lst.sort()\n",
    " \n",
    "# printing the first element\n",
    "print(\"Smallest element is:\", lst[0])"
   ]
  },
  {
   "cell_type": "markdown",
   "id": "12b04397",
   "metadata": {},
   "source": [
    "### 4. Write a Python program to find largest number in a list?"
   ]
  },
  {
   "cell_type": "code",
   "execution_count": 11,
   "id": "b5c5c6f3",
   "metadata": {},
   "outputs": [
    {
     "name": "stdout",
     "output_type": "stream",
     "text": [
      "Enter number of elements : 4\n",
      "85\n",
      "45\n",
      "95\n",
      "0\n",
      "[85, 45, 95, 0]\n",
      "Smallest element is: 95\n"
     ]
    }
   ],
   "source": [
    "lst = []\n",
    "a = int(input(\"Enter number of elements : \"))\n",
    "  \n",
    "# iterating till the range\n",
    "for i in range(0, a):\n",
    "    ele = int(input())\n",
    "  \n",
    "    lst.append(ele) # adding the element\n",
    "      \n",
    "print(lst)\n",
    "lst.sort()\n",
    " \n",
    "# printing the last element\n",
    "print(\"Largest element is:\", lst[(a-1)])"
   ]
  },
  {
   "cell_type": "markdown",
   "id": "86442b51",
   "metadata": {},
   "source": [
    "### 5. Write a Python program to find second largest number in a list?"
   ]
  },
  {
   "cell_type": "code",
   "execution_count": 17,
   "id": "e2a04bf5",
   "metadata": {},
   "outputs": [
    {
     "name": "stdout",
     "output_type": "stream",
     "text": [
      "Enter number of elements : 7\n",
      "15\n",
      "0\n",
      "534\n",
      "67\n",
      "821\n",
      "45\n",
      "542\n",
      "[15, 0, 534, 67, 821, 45, 542]\n",
      "Second largest element is: 542\n"
     ]
    }
   ],
   "source": [
    "lst = []\n",
    "a = int(input(\"Enter number of elements : \"))\n",
    "  \n",
    "# iterating till the range\n",
    "for i in range(0, a):\n",
    "    ele = int(input())\n",
    "  \n",
    "    lst.append(ele) # adding the element\n",
    "      \n",
    "print(lst)\n",
    "lst.sort()\n",
    " \n",
    "# printing the first element\n",
    "print(\"Second largest element is:\", lst[(a-2)])"
   ]
  },
  {
   "cell_type": "markdown",
   "id": "10964d7d",
   "metadata": {},
   "source": [
    "### 6. Write a Python program to find N largest elements from a list?"
   ]
  },
  {
   "cell_type": "code",
   "execution_count": 1,
   "id": "0cfda462",
   "metadata": {},
   "outputs": [
    {
     "name": "stdout",
     "output_type": "stream",
     "text": [
      "Enter number of elements : 8\n",
      "Enter elements\n",
      "12\n",
      "43\n",
      "34\n",
      "57\n",
      "81\n",
      "75\n",
      "26\n",
      "11\n",
      "[12, 43, 34, 57, 81, 75, 26, 11]\n",
      "Enter value N for N largest elements: 4\n",
      "[43, 57, 75, 81]\n"
     ]
    }
   ],
   "source": [
    "# Python program to find N largest\n",
    "# element from given list of integers\n",
    "l = []\n",
    "a = int(input(\"Enter number of elements : \"))\n",
    "print(\"Enter elements\")\n",
    "# iterating till the range\n",
    "for i in range(0, a):\n",
    "    ele = int(input())\n",
    "    l.append(ele) # adding the element\n",
    "      \n",
    "print(l)\n",
    "l.sort()\n",
    "n = int(input(\"Enter value N for N largest elements: \")) \n",
    "print(l[-n:])"
   ]
  },
  {
   "cell_type": "markdown",
   "id": "2f1a1e98",
   "metadata": {},
   "source": [
    "### 7. Write a Python program to print even numbers in a list?"
   ]
  },
  {
   "cell_type": "code",
   "execution_count": 5,
   "id": "2f69b944",
   "metadata": {},
   "outputs": [
    {
     "name": "stdout",
     "output_type": "stream",
     "text": [
      "Enter number of elements : 9\n",
      "Enter elements\n",
      "11\n",
      "3\n",
      "89\n",
      "0\n",
      "12\n",
      "14\n",
      "18\n",
      "94\n",
      "57\n",
      "[11, 3, 89, 0, 12, 14, 18, 94, 57]\n",
      "Even Numbers in a List are : \n",
      "0 12 14 18 94 "
     ]
    }
   ],
   "source": [
    "# Python program to print Even Numbers in a List\n",
    " \n",
    "# element from given list of integers\n",
    "l = []\n",
    "a = int(input(\"Enter number of elements : \"))\n",
    "print(\"Enter elements\")\n",
    "# iterating till the range\n",
    "for i in range(0, a):\n",
    "    ele = int(input())\n",
    "    l.append(ele) # adding the element\n",
    "      \n",
    "print(l)\n",
    "print(\"Even Numbers in a List are : \") \n",
    "# iterating each number in list\n",
    "for num in l:\n",
    " \n",
    "    # checking condition\n",
    "\n",
    "    if num % 2 == 0:\n",
    "        \n",
    "        print(num, end=\" \")"
   ]
  },
  {
   "cell_type": "markdown",
   "id": "989bb324",
   "metadata": {},
   "source": [
    "### 8. Write a Python program to print odd numbers in a List?"
   ]
  },
  {
   "cell_type": "code",
   "execution_count": 6,
   "id": "1d1f057f",
   "metadata": {},
   "outputs": [
    {
     "name": "stdout",
     "output_type": "stream",
     "text": [
      "Enter number of elements : 10\n",
      "Enter elements\n",
      "1\n",
      "12\n",
      "0\n",
      "14\n",
      "42\n",
      "43\n",
      "56\n",
      "58\n",
      "57\n",
      "98\n",
      "[1, 12, 0, 14, 42, 43, 56, 58, 57, 98]\n",
      "Even Numbers in a List are : \n",
      "1 43 57 "
     ]
    }
   ],
   "source": [
    "# Python program to print Even Numbers in a List\n",
    " \n",
    "# element from given list of integers\n",
    "l = []\n",
    "a = int(input(\"Enter number of elements : \"))\n",
    "print(\"Enter elements\")\n",
    "# iterating till the range\n",
    "for i in range(0, a):\n",
    "    ele = int(input())\n",
    "    l.append(ele) # adding the element\n",
    "      \n",
    "print(l)\n",
    "print(\"Even Numbers in a List are : \") \n",
    "# iterating each number in list\n",
    "for num in l:\n",
    " \n",
    "    # checking condition\n",
    "\n",
    "    if num % 2 != 0:\n",
    "        \n",
    "        print(num, end=\" \")"
   ]
  },
  {
   "cell_type": "markdown",
   "id": "185b7b13",
   "metadata": {},
   "source": [
    "### 9. Write a Python program to Remove empty List from List?"
   ]
  },
  {
   "cell_type": "code",
   "execution_count": 7,
   "id": "7957bc56",
   "metadata": {},
   "outputs": [
    {
     "name": "stdout",
     "output_type": "stream",
     "text": [
      "The original list is : [5, 6, [], 3, [], [], 9]\n",
      "List after empty list removal : [5, 6, 3, 9]\n"
     ]
    }
   ],
   "source": [
    "# Python3 code to Demonstrate Remove empty List\n",
    "# from List using list comprehension\n",
    " \n",
    "# Initializing list\n",
    "test_list = [5, 6, [], 3, [], [], 9]\n",
    " \n",
    "# printing original list\n",
    "print(\"The original list is : \" + str(test_list))\n",
    " \n",
    "# Remove empty List from List\n",
    "# using list comprehension\n",
    "res = [ele for ele in test_list if ele != []]\n",
    " \n",
    "# printing result\n",
    "print(\"List after empty list removal : \" + str(res))"
   ]
  },
  {
   "cell_type": "markdown",
   "id": "278cfacc",
   "metadata": {},
   "source": [
    "### 10. Write a Python program to Cloning or Copying a list?"
   ]
  },
  {
   "cell_type": "code",
   "execution_count": 8,
   "id": "f97dbf88",
   "metadata": {},
   "outputs": [
    {
     "name": "stdout",
     "output_type": "stream",
     "text": [
      "Original List: [4, 8, 2, 10, 15, 18]\n",
      "After Cloning: [4, 8, 2, 10, 15, 18]\n"
     ]
    }
   ],
   "source": [
    "\n",
    "# Python code to clone or copy a list\n",
    "# Using append()\n",
    "def Cloning(li1):\n",
    "    li_copy =[]\n",
    "    for item in li1: li_copy.append(item)\n",
    "    return li_copy\n",
    "   \n",
    "# Driver Code\n",
    "li1 = [4, 8, 2, 10, 15, 18]\n",
    "li2 = Cloning(li1)\n",
    "print(\"Original List:\", li1)\n",
    "print(\"After Cloning:\", li2)"
   ]
  },
  {
   "cell_type": "markdown",
   "id": "b359bedf",
   "metadata": {},
   "source": [
    "### 11. Write a Python program to Count occurrences of an element in a list?"
   ]
  },
  {
   "cell_type": "code",
   "execution_count": 11,
   "id": "af4f3dfd",
   "metadata": {},
   "outputs": [
    {
     "name": "stdout",
     "output_type": "stream",
     "text": [
      "8 has occurred 4 times\n"
     ]
    }
   ],
   "source": [
    "# Python code to count the number of occurrences\n",
    "def countX(lst, x):\n",
    "    return lst.count(x)\n",
    " \n",
    " \n",
    "# Driver Code\n",
    "lst = [8, 6, 13, 10, 8, 20, 10, 8, 8]\n",
    "x = 8\n",
    "print('{} has occurred {} times'.format(x,countX(lst, x)))"
   ]
  },
  {
   "cell_type": "code",
   "execution_count": null,
   "id": "7621d616",
   "metadata": {},
   "outputs": [],
   "source": []
  }
 ],
 "metadata": {
  "kernelspec": {
   "display_name": "Python 3 (ipykernel)",
   "language": "python",
   "name": "python3"
  },
  "language_info": {
   "codemirror_mode": {
    "name": "ipython",
    "version": 3
   },
   "file_extension": ".py",
   "mimetype": "text/x-python",
   "name": "python",
   "nbconvert_exporter": "python",
   "pygments_lexer": "ipython3",
   "version": "3.9.13"
  }
 },
 "nbformat": 4,
 "nbformat_minor": 5
}
