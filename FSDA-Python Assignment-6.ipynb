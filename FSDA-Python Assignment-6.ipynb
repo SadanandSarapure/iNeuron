{
 "cells": [
  {
   "cell_type": "markdown",
   "id": "84a41a9f",
   "metadata": {},
   "source": [
    "# Programming Basic Assignment 6"
   ]
  },
  {
   "cell_type": "markdown",
   "id": "a4b40558",
   "metadata": {},
   "source": [
    "### 1. Write a Python Program to Display Fibonacci Sequence Using Recursion?"
   ]
  },
  {
   "cell_type": "code",
   "execution_count": 21,
   "id": "23a8256f",
   "metadata": {},
   "outputs": [
    {
     "name": "stdout",
     "output_type": "stream",
     "text": [
      "How many terms you need? 4\n",
      "Fibonacci sequence:for 4 is\n",
      "0\n",
      "1\n",
      "1\n",
      "2\n"
     ]
    }
   ],
   "source": [
    " def r_fibonaci(p):  \n",
    "   if p <= 1:  \n",
    "       return p  \n",
    "   else:  \n",
    "       return(r_fibonaci(p-1) + r_fibonaci(p-2))  \n",
    "# take input for required number of terms from the user  \n",
    "nuber_of_terms = int(input(\"How many terms you need? \"))  \n",
    "# check if the number of terms is valid  \n",
    "if nuber_of_terms <= 0:  \n",
    "   print(\"Plese enter a positive integer\")  \n",
    "else:  \n",
    "   print(\"Fibonacci sequence:for\", nuber_of_terms, \"is\" )  \n",
    "   for i in range(nuber_of_terms):  \n",
    "       print(r_fibonaci(i))"
   ]
  },
  {
   "cell_type": "code",
   "execution_count": null,
   "id": "f13a6bbe",
   "metadata": {},
   "outputs": [],
   "source": []
  },
  {
   "cell_type": "markdown",
   "id": "d7a57f60",
   "metadata": {},
   "source": [
    "### 2. Write a Python Program to Find Factorial of Number Using Recursion?"
   ]
  },
  {
   "cell_type": "code",
   "execution_count": 20,
   "id": "d11c8916",
   "metadata": {},
   "outputs": [
    {
     "name": "stdout",
     "output_type": "stream",
     "text": [
      "Enter the number4\n",
      "The factorial of 4 is 24\n"
     ]
    }
   ],
   "source": [
    "# Factorial of a number using recursion\n",
    "\n",
    "def recursion_fact(p):\n",
    "   if p == 1:\n",
    "       return p\n",
    "   else:\n",
    "       return p*recursion_fact(p-1)\n",
    "\n",
    "number = int(input(\"Enter the number\"))\n",
    "\n",
    "# check if the number is negative\n",
    "if number < 0:\n",
    "   print(\"Sorry, factorial does not exist for negative numbers\")\n",
    "elif number == 0:\n",
    "   print(\"The factorial of 0 is 1\")\n",
    "else:\n",
    "   print(\"The factorial of\", number, \"is\", recursion_fact(num))"
   ]
  },
  {
   "cell_type": "markdown",
   "id": "0357b86f",
   "metadata": {},
   "source": [
    "### 3. Write a Python Program to calculate your Body Mass Index?"
   ]
  },
  {
   "cell_type": "code",
   "execution_count": 22,
   "id": "116ecda9",
   "metadata": {},
   "outputs": [
    {
     "name": "stdout",
     "output_type": "stream",
     "text": [
      "What is your height in Feet: 5.6\n",
      "What is your weight in Kilogram: 90\n",
      "Your body mass index is:  2.87\n"
     ]
    }
   ],
   "source": [
    "height = float(input(\"What is your height in Feet: \"))\n",
    "weight = float(input(\"What is your weight in Kilogram: \"))\n",
    "print(\"Your body mass index is: \", round(weight / (height * height), 3))"
   ]
  },
  {
   "cell_type": "markdown",
   "id": "96d344a4",
   "metadata": {},
   "source": [
    "### 4. Write a Python Program to calculate the natural logarithm of any number?"
   ]
  },
  {
   "cell_type": "code",
   "execution_count": 28,
   "id": "df0e02a7",
   "metadata": {},
   "outputs": [
    {
     "name": "stdout",
     "output_type": "stream",
     "text": [
      "Enter the number: 3\n",
      "The log of  3 is =  1.0986122886681098\n"
     ]
    }
   ],
   "source": [
    "import math\n",
    "\n",
    "number = int(input(\"Enter the number: \"))\n",
    "\n",
    "ans = math.log(number)\n",
    "\n",
    "print(\"The log of \",number, \"is = \",ans)"
   ]
  },
  {
   "cell_type": "markdown",
   "id": "11c0d92c",
   "metadata": {},
   "source": [
    "\n",
    "### 5. Write a Python Program for cube sum of first n natural numbers?\n"
   ]
  },
  {
   "cell_type": "code",
   "execution_count": 30,
   "id": "d85aa5e3",
   "metadata": {},
   "outputs": [
    {
     "name": "stdout",
     "output_type": "stream",
     "text": [
      "Enter the number3\n",
      "36\n"
     ]
    }
   ],
   "source": [
    "def cubesum(a):\n",
    "    sum = 0\n",
    "    for i in range(1, a+1):\n",
    "        sum +=pow(i,3)\n",
    "         \n",
    "    return sum\n",
    " \n",
    "  \n",
    "# Driver Function\n",
    "x = int(input(\"Enter the number\"))\n",
    "print(cubesum(x))"
   ]
  },
  {
   "cell_type": "code",
   "execution_count": null,
   "id": "ab89be24",
   "metadata": {},
   "outputs": [],
   "source": []
  }
 ],
 "metadata": {
  "kernelspec": {
   "display_name": "Python 3 (ipykernel)",
   "language": "python",
   "name": "python3"
  },
  "language_info": {
   "codemirror_mode": {
    "name": "ipython",
    "version": 3
   },
   "file_extension": ".py",
   "mimetype": "text/x-python",
   "name": "python",
   "nbconvert_exporter": "python",
   "pygments_lexer": "ipython3",
   "version": "3.9.13"
  }
 },
 "nbformat": 4,
 "nbformat_minor": 5
}
